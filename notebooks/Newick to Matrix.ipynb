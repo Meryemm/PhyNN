{
 "cells": [
  {
   "cell_type": "code",
   "execution_count": 1,
   "metadata": {},
   "outputs": [],
   "source": [
    "from ete3 import Tree"
   ]
  },
  {
   "cell_type": "code",
   "execution_count": 2,
   "metadata": {},
   "outputs": [],
   "source": [
    "# Set a the file name here of the tree to test things on.\n",
    "fileName = '4Leaf.tree'"
   ]
  },
  {
   "cell_type": "code",
   "execution_count": 3,
   "metadata": {},
   "outputs": [],
   "source": [
    "def getLeafNodeNames(tree):\n",
    "    '''\n",
    "    return a list of leaf node names in alphabetical order\n",
    "    '''\n",
    "    leafNodeNames = []\n",
    "    for node in tree.traverse(\"postorder\"):\n",
    "        if node.is_leaf():\n",
    "            leafNodeNames.append(node.name)\n",
    "    leafNodeNames.sort()\n",
    "    return leafNodeNames"
   ]
  },
  {
   "cell_type": "code",
   "execution_count": 4,
   "metadata": {},
   "outputs": [],
   "source": [
    "def getTopologyMatrix(newickFile):\n",
    "    '''Take a newickFile and return a matrix of number of nodes between leaf nodes'''\n",
    "    with open(newickFile,'r') as f:\n",
    "        newickString = f.read()\n",
    "    tree = Tree(newickString)\n",
    "    \n",
    "    leafNodeNames = getLeafNodeNames(tree)\n",
    "    \n",
    "    topologyMatrix = []\n",
    "    for leafNode in leafNodeNames:\n",
    "        internalNodesBetween = []\n",
    "        for otherLeafNode in leafNodeNames:\n",
    "            if leafNode == otherLeafNode:\n",
    "                numberInternalNodes = 0\n",
    "            else:\n",
    "                numberInternalNodes = int(tree.get_distance(leafNode, otherLeafNode, topology_only=True))\n",
    "            internalNodesBetween.append(numberInternalNodes)\n",
    "        topologyMatrix.append(internalNodesBetween)\n",
    "    return(topologyMatrix)"
   ]
  },
  {
   "cell_type": "code",
   "execution_count": 5,
   "metadata": {},
   "outputs": [],
   "source": [
    "def getDistanceMatrix(newickFile):\n",
    "    '''Take a newick file return a matrix of distances between leaf nodes.'''\n",
    "    with open(newickFile,'r') as f:\n",
    "        newickString = f.read()\n",
    "    tree = Tree(newickString)\n",
    "    \n",
    "    leafNodeNames = getLeafNodeNames(tree)\n",
    "    \n",
    "    distanceMatrix = []\n",
    "    for leafNode in leafNodeNames:\n",
    "        distancesFromNode = []\n",
    "        for otherLeafNode in leafNodeNames:\n",
    "            if leafNode == otherLeafNode:\n",
    "                distance = 0\n",
    "            else:\n",
    "                distance = tree.get_distance(leafNode, otherLeafNode)\n",
    "            distancesFromNode.append(distance)\n",
    "        distanceMatrix.append(distancesFromNode)\n",
    "    return(distanceMatrix)"
   ]
  },
  {
   "cell_type": "code",
   "execution_count": 6,
   "metadata": {},
   "outputs": [
    {
     "data": {
      "text/plain": [
       "[[0, 1, 2, 2], [1, 0, 2, 2], [2, 2, 0, 1], [2, 2, 1, 0]]"
      ]
     },
     "execution_count": 6,
     "metadata": {},
     "output_type": "execute_result"
    }
   ],
   "source": [
    "# Test getTopologyMatrix\n",
    "getTopologyMatrix('./../data/testdata/'+fileName)"
   ]
  },
  {
   "cell_type": "code",
   "execution_count": 7,
   "metadata": {},
   "outputs": [
    {
     "data": {
      "text/plain": [
       "[[0, 0.361399, 0.39885499999999996, 0.497874],\n",
       " [0.361399, 0, 0.464316, 0.563335],\n",
       " [0.39885499999999996, 0.464316, 0, 0.430593],\n",
       " [0.497874, 0.5633349999999999, 0.430593, 0]]"
      ]
     },
     "execution_count": 7,
     "metadata": {},
     "output_type": "execute_result"
    }
   ],
   "source": [
    "# Test getDistanceMatrix\n",
    "getDistanceMatrix('./../data/testdata/'+fileName)"
   ]
  },
  {
   "cell_type": "code",
   "execution_count": 8,
   "metadata": {},
   "outputs": [],
   "source": [
    "testMatrix = getTopologyMatrix('./../data/testdata/'+fileName)"
   ]
  },
  {
   "cell_type": "code",
   "execution_count": 9,
   "metadata": {},
   "outputs": [
    {
     "name": "stdout",
     "output_type": "stream",
     "text": [
      "[1, 2, 2, 2, 2, 1]\n"
     ]
    }
   ],
   "source": [
    "def flattenSymetricalMatrix(matrix):\n",
    "    ''' Take a 2d symetrical matrix (list of lists).\n",
    "        Return a flattened version (single list)\n",
    "        for example:\n",
    "           input [[0,2,3],\n",
    "                  [2,0,4],\n",
    "                  [3,4,0]]\n",
    "           output [2,3,4]\n",
    "                  '''\n",
    "    flattenedMatrix = []\n",
    "    for i in range(len(matrix)):\n",
    "        if i == 0:\n",
    "            pass\n",
    "        else:\n",
    "            for elm in matrix[i][0:i]:\n",
    "                flattenedMatrix.append(elm)\n",
    "        \n",
    "    return flattenedMatrix\n",
    "        \n",
    "# Test\n",
    "flattenedList = flattenSymetricalMatrix(testMatrix)\n",
    "print(flattenedList)        "
   ]
  }
 ],
 "metadata": {
  "kernelspec": {
   "display_name": "Python 3",
   "language": "python",
   "name": "python3"
  },
  "language_info": {
   "codemirror_mode": {
    "name": "ipython",
    "version": 3
   },
   "file_extension": ".py",
   "mimetype": "text/x-python",
   "name": "python",
   "nbconvert_exporter": "python",
   "pygments_lexer": "ipython3",
   "version": "3.5.5"
  }
 },
 "nbformat": 4,
 "nbformat_minor": 2
}
