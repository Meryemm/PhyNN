{
 "cells": [
  {
   "cell_type": "code",
   "execution_count": 1,
   "metadata": {},
   "outputs": [],
   "source": [
    "from Bio import SeqIO\n",
    "import numpy as np"
   ]
  },
  {
   "cell_type": "code",
   "execution_count": 2,
   "metadata": {},
   "outputs": [
    {
     "data": {
      "text/plain": [
       "[[1, 0, 0, 0], [0, 1, 0, 0], [0, 0, 1, 0], [0, 0, 0, 1], [0, 0, 0, 1]]"
      ]
     },
     "execution_count": 2,
     "metadata": {},
     "output_type": "execute_result"
    }
   ],
   "source": [
    "def oneHotEncodeDNA(sequence):\n",
    "    # A function to convert a dna sequence (list ['A','A','C', etc.]) into a one hot encoding version.\n",
    "    baseEncodings = {\n",
    "        'A': [1,0,0,0],\n",
    "        'a': [1,0,0,0],\n",
    "        'C': [0,1,0,0],\n",
    "        'c': [0,1,0,0],\n",
    "        'G': [0,0,1,0],\n",
    "        'g': [0,0,1,0],\n",
    "        'T': [0,0,0,1],\n",
    "        't': [0,0,0,1],\n",
    "        '-': [0,0,0,0],\n",
    "        '?': [0.25,0.25,0.25,0.25],\n",
    "        '*': [0.25,0.25,0.25,0.25],\n",
    "        'B': [0,0.33,0.33,0.33],\n",
    "        'D': [0.33,0,0.33,0.33],\n",
    "        'H': [0.33,0.33,0,0.33],\n",
    "        'K': [0,0,0.5,0.5],\n",
    "        'M': [0.5,0.5,0,0],\n",
    "        'N': [0.25,0.25,0.25,0.25],\n",
    "        'R': [0.5,0,0.5,0],\n",
    "        'S': [0,0.5,0.5,0],\n",
    "        'V': [0.33,0.33,0.33,0],\n",
    "        'W': [0.5,0,0,0.5],\n",
    "        'Y': [0,0.5,0,0.5]\n",
    "                    }\n",
    "\n",
    "    encodedSequence = []\n",
    "    for base in sequence:\n",
    "        encodedSequence.append(baseEncodings[base])\n",
    "        \n",
    "    return encodedSequence\n",
    "\n",
    "# Test\n",
    "oneHotEncodeDNA(['A', 'C', 'G', 'T', 'T'])"
   ]
  },
  {
   "cell_type": "code",
   "execution_count": 3,
   "metadata": {},
   "outputs": [],
   "source": [
    "def FastaToMatrix(fastaFile):\n",
    "    # A function to convert a fasta file into a one hot encoding version.\n",
    "    # Load the fasta file.\n",
    "    fastaData = SeqIO.parse(fastaFile, \"fasta\")\n",
    "\n",
    "    # Encode the sequences.\n",
    "    encodedSequences = []\n",
    "\n",
    "    for record in fastaData:\n",
    "        sequence = list(record.seq)\n",
    "        encodedSequence = oneHotEncodeDNA(sequence)\n",
    "        encodedSequences.append(encodedSequence)\n",
    "\n",
    "    return encodedSequences\n",
    "\n",
    "# Test\n",
    "#FastaToMatrix('./data/testData/CD2.fasta')"
   ]
  }
 ],
 "metadata": {
  "kernelspec": {
   "display_name": "Python 3",
   "language": "python",
   "name": "python3"
  },
  "language_info": {
   "codemirror_mode": {
    "name": "ipython",
    "version": 3
   },
   "file_extension": ".py",
   "mimetype": "text/x-python",
   "name": "python",
   "nbconvert_exporter": "python",
   "pygments_lexer": "ipython3",
   "version": "3.5.5"
  }
 },
 "nbformat": 4,
 "nbformat_minor": 2
}
