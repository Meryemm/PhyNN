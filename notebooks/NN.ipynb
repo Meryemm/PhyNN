{
 "cells": [
  {
   "cell_type": "code",
   "execution_count": 1,
   "metadata": {},
   "outputs": [
    {
     "name": "stderr",
     "output_type": "stream",
     "text": [
      "Using TensorFlow backend.\n",
      "/Users/ryanvelazquez/anaconda3/envs/phynn/lib/python3.5/importlib/_bootstrap.py:222: RuntimeWarning: compiletime version 3.6 of module 'tensorflow.python.framework.fast_tensor_util' does not match runtime version 3.5\n",
      "  return f(*args, **kwds)\n"
     ]
    }
   ],
   "source": [
    "import numpy as np\n",
    "import pandas as pd\n",
    "np.random.seed(0)\n",
    "from sklearn.model_selection import train_test_split\n",
    "from keras.models import Sequential\n",
    "from keras.layers import Dense, Dropout, Flatten, Conv2D, MaxPool2D\n",
    "from keras.utils.vis_utils import model_to_dot\n",
    "from keras.optimizers import RMSprop\n",
    "from keras.callbacks import ReduceLROnPlateau\n",
    "from IPython.display import SVG\n",
    "random_seed = 0"
   ]
  },
  {
   "cell_type": "markdown",
   "metadata": {},
   "source": [
    "## Load the data"
   ]
  },
  {
   "cell_type": "code",
   "execution_count": 2,
   "metadata": {},
   "outputs": [],
   "source": [
    "dataDir = './../data/'\n",
    "fileName = 'ExampleRun'\n",
    "fastaMatrix = np.load(dataDir+'np/'+fileName+'_fastaMatrices.npy')\n",
    "topologyMatrix = np.load(dataDir+'np/'+fileName+'_topologyMatrices.npy')\n",
    "distanceMatrix = np.load(dataDir+'np/'+fileName+'_distanceMatrices.npy')"
   ]
  },
  {
   "cell_type": "markdown",
   "metadata": {},
   "source": [
    "## Basic test train splits"
   ]
  },
  {
   "cell_type": "code",
   "execution_count": 3,
   "metadata": {},
   "outputs": [],
   "source": [
    "# Test train split Topology.\n",
    "x_train, x_validation, y_train_topology, y_validation_topology = train_test_split(fastaMatrix, topologyMatrix, test_size = 0.01, random_state=random_seed)\n",
    "# Hold back some data completely\n",
    "x_train, x_test, y_train_topology, y_test_topology = train_test_split(x_train, y_train_topology, test_size = 0.1, random_state=random_seed)\n",
    "\n",
    "# Test train split Distance.\n",
    "x_train, x_validation, y_train_distance, y_validation_distance = train_test_split(fastaMatrix, distanceMatrix, test_size = 0.01, random_state=random_seed)\n",
    "# Hold back some data completely\n",
    "x_train, x_test, y_train_distance, y_test_distance = train_test_split(x_train, y_train_distance, test_size = 0.1, random_state=random_seed)"
   ]
  },
  {
   "cell_type": "markdown",
   "metadata": {},
   "source": [
    "## Model Definition"
   ]
  },
  {
   "cell_type": "code",
   "execution_count": 4,
   "metadata": {},
   "outputs": [
    {
     "data": {
      "text/plain": [
       "20"
      ]
     },
     "execution_count": 4,
     "metadata": {},
     "output_type": "execute_result"
    }
   ],
   "source": [
    "x_train.shape[2]"
   ]
  },
  {
   "cell_type": "code",
   "execution_count": 5,
   "metadata": {},
   "outputs": [],
   "source": [
    "# Go with simple model to start: Input --> Conv2D; MaxPool2D; Flatten; Dense --> Out\n",
    "modelTopo = Sequential()\n",
    "\n",
    "modelTopo.add(Conv2D(filters = 30, kernel_size = (5,5),padding = 'Same', activation ='relu', input_shape = (x_train.shape[1:4]), data_format=\"channels_last\"))\n",
    "modelTopo.add(MaxPool2D(pool_size=(2,2)))\n",
    "modelTopo.add(Flatten())\n",
    "modelTopo.add(Dense((x_train.shape[1]*x_train.shape[2]), activation = \"relu\"))\n",
    "modelTopo.add(Dense(y_train_topology.shape[1], activation = \"relu\"))\n",
    "\n",
    "modelDist = Sequential()\n",
    "\n",
    "modelDist.add(Conv2D(filters = 30, kernel_size = (5,5),padding = 'Same', activation ='relu', input_shape = (x_train.shape[1:4]), data_format=\"channels_last\"))\n",
    "modelDist.add(MaxPool2D(pool_size=(2,2)))\n",
    "modelDist.add(Flatten())\n",
    "modelDist.add(Dense((x_train.shape[1]*x_train.shape[2]), activation = \"relu\"))\n",
    "modelDist.add(Dense(y_train_topology.shape[1], activation = \"relu\"))"
   ]
  },
  {
   "cell_type": "code",
   "execution_count": 6,
   "metadata": {},
   "outputs": [],
   "source": [
    "# Optimizer.\n",
    "optimizer = RMSprop(lr=0.001, rho=0.9, epsilon=1e-08, decay=0.0)\n",
    "\n",
    "# Compile.\n",
    "modelTopo.compile(optimizer = optimizer , loss = \"mean_squared_error\", metrics=[\"accuracy\"])\n",
    "modelDist.compile(optimizer = optimizer , loss = \"mean_squared_error\", metrics=[\"accuracy\"])\n",
    "\n",
    "# Set a learning rate annealer.\n",
    "learning_rate_reduction = ReduceLROnPlateau(monitor='val_acc', \n",
    "                                            patience=3, \n",
    "                                            verbose=1, \n",
    "                                            factor=0.5, \n",
    "                                            min_lr=0.00001)\n",
    "\n",
    "batch_size = 86"
   ]
  },
  {
   "cell_type": "code",
   "execution_count": 7,
   "metadata": {},
   "outputs": [
    {
     "name": "stdout",
     "output_type": "stream",
     "text": [
      "fitting the model on topology\n",
      "Train on 891 samples, validate on 99 samples\n",
      "Epoch 1/50\n",
      " - 0s - loss: 4.8267 - acc: 0.0595 - val_loss: 2.9194 - val_acc: 0.1212\n",
      "Epoch 2/50\n",
      " - 0s - loss: 2.9053 - acc: 0.0662 - val_loss: 2.8969 - val_acc: 0.2626\n",
      "Epoch 3/50\n",
      " - 0s - loss: 2.9308 - acc: 0.0707 - val_loss: 2.9580 - val_acc: 0.0707\n",
      "Epoch 4/50\n",
      " - 0s - loss: 2.8835 - acc: 0.0606 - val_loss: 2.8630 - val_acc: 0.0808\n",
      "Epoch 5/50\n",
      " - 0s - loss: 2.9296 - acc: 0.0741 - val_loss: 2.9256 - val_acc: 0.0000e+00\n",
      "Epoch 6/50\n",
      " - 0s - loss: 2.8761 - acc: 0.0359 - val_loss: 2.9177 - val_acc: 0.0808\n",
      "Epoch 7/50\n",
      " - 0s - loss: 2.8903 - acc: 0.0730 - val_loss: 2.8873 - val_acc: 0.0202\n",
      "Epoch 8/50\n",
      " - 0s - loss: 2.8070 - acc: 0.0707 - val_loss: 2.8473 - val_acc: 0.0606\n",
      "Epoch 9/50\n",
      " - 0s - loss: 2.8770 - acc: 0.0786 - val_loss: 2.8946 - val_acc: 0.0202\n",
      "Epoch 10/50\n",
      " - 0s - loss: 2.8356 - acc: 0.0673 - val_loss: 2.9933 - val_acc: 0.0000e+00\n",
      "Epoch 11/50\n",
      " - 0s - loss: 2.8022 - acc: 0.1044 - val_loss: 2.9334 - val_acc: 0.0303\n",
      "Epoch 12/50\n",
      " - 0s - loss: 2.8302 - acc: 0.0718 - val_loss: 2.9665 - val_acc: 0.1717\n",
      "Epoch 13/50\n",
      " - 0s - loss: 2.7823 - acc: 0.1055 - val_loss: 2.8156 - val_acc: 0.0606\n",
      "Epoch 14/50\n",
      " - 0s - loss: 2.7640 - acc: 0.0763 - val_loss: 3.0267 - val_acc: 0.0303\n",
      "Epoch 15/50\n",
      " - 0s - loss: 2.7947 - acc: 0.0819 - val_loss: 2.8362 - val_acc: 0.0101\n",
      "Epoch 16/50\n",
      " - 0s - loss: 2.7483 - acc: 0.0629 - val_loss: 2.8976 - val_acc: 0.0303\n",
      "Epoch 17/50\n",
      " - 0s - loss: 2.7525 - acc: 0.0943 - val_loss: 2.8726 - val_acc: 0.0606\n",
      "Epoch 18/50\n",
      " - 0s - loss: 2.7074 - acc: 0.0786 - val_loss: 2.9045 - val_acc: 0.0000e+00\n",
      "Epoch 19/50\n",
      " - 0s - loss: 2.6999 - acc: 0.0842 - val_loss: 3.0553 - val_acc: 0.0808\n",
      "Epoch 20/50\n",
      " - 0s - loss: 2.7071 - acc: 0.1201 - val_loss: 2.9206 - val_acc: 0.0707\n",
      "Epoch 21/50\n",
      " - 0s - loss: 2.7063 - acc: 0.0909 - val_loss: 2.9691 - val_acc: 0.0505\n",
      "Epoch 22/50\n",
      " - 0s - loss: 2.6555 - acc: 0.0999 - val_loss: 2.9008 - val_acc: 0.1515\n",
      "Epoch 23/50\n",
      " - 0s - loss: 2.6514 - acc: 0.1167 - val_loss: 2.8859 - val_acc: 0.0808\n",
      "Epoch 24/50\n",
      " - 0s - loss: 2.6433 - acc: 0.1100 - val_loss: 2.9112 - val_acc: 0.0808\n",
      "Epoch 25/50\n",
      " - 0s - loss: 2.6075 - acc: 0.0898 - val_loss: 2.8444 - val_acc: 0.0404\n",
      "Epoch 26/50\n",
      " - 0s - loss: 2.6336 - acc: 0.0988 - val_loss: 2.8472 - val_acc: 0.0505\n",
      "Epoch 27/50\n",
      " - 0s - loss: 2.5709 - acc: 0.0988 - val_loss: 2.8799 - val_acc: 0.0505\n",
      "Epoch 28/50\n",
      " - 0s - loss: 2.5998 - acc: 0.1145 - val_loss: 2.9151 - val_acc: 0.1818\n",
      "Epoch 29/50\n",
      " - 0s - loss: 2.5468 - acc: 0.1190 - val_loss: 2.8585 - val_acc: 0.0707\n",
      "Epoch 30/50\n",
      " - 0s - loss: 2.5356 - acc: 0.1212 - val_loss: 2.9489 - val_acc: 0.1111\n",
      "Epoch 31/50\n",
      " - 0s - loss: 2.5231 - acc: 0.1369 - val_loss: 2.8935 - val_acc: 0.0606\n",
      "Epoch 32/50\n",
      " - 0s - loss: 2.5069 - acc: 0.1077 - val_loss: 2.9112 - val_acc: 0.0909\n",
      "Epoch 33/50\n",
      " - 0s - loss: 2.5150 - acc: 0.1167 - val_loss: 2.8863 - val_acc: 0.0606\n",
      "Epoch 34/50\n",
      " - 0s - loss: 2.4643 - acc: 0.1257 - val_loss: 2.9270 - val_acc: 0.1313\n",
      "Epoch 35/50\n",
      " - 0s - loss: 2.4515 - acc: 0.1347 - val_loss: 2.9476 - val_acc: 0.0707\n",
      "Epoch 36/50\n",
      " - 0s - loss: 2.4450 - acc: 0.1100 - val_loss: 2.9242 - val_acc: 0.0909\n",
      "Epoch 37/50\n",
      " - 0s - loss: 2.4158 - acc: 0.1279 - val_loss: 2.8591 - val_acc: 0.0606\n",
      "Epoch 38/50\n",
      " - 0s - loss: 2.4063 - acc: 0.1246 - val_loss: 2.8546 - val_acc: 0.1313\n",
      "Epoch 39/50\n",
      " - 0s - loss: 2.3826 - acc: 0.1380 - val_loss: 2.9283 - val_acc: 0.1818\n",
      "Epoch 40/50\n",
      " - 0s - loss: 2.3778 - acc: 0.1437 - val_loss: 2.8817 - val_acc: 0.0909\n",
      "Epoch 41/50\n",
      " - 0s - loss: 2.3483 - acc: 0.1246 - val_loss: 2.8942 - val_acc: 0.0707\n",
      "Epoch 42/50\n",
      " - 0s - loss: 2.3261 - acc: 0.1257 - val_loss: 2.9184 - val_acc: 0.0909\n",
      "Epoch 43/50\n",
      " - 0s - loss: 2.3289 - acc: 0.1279 - val_loss: 3.0327 - val_acc: 0.0303\n",
      "Epoch 44/50\n",
      " - 0s - loss: 2.3299 - acc: 0.1392 - val_loss: 2.9586 - val_acc: 0.0606\n",
      "Epoch 45/50\n",
      " - 0s - loss: 2.2726 - acc: 0.1459 - val_loss: 2.8801 - val_acc: 0.1414\n",
      "Epoch 46/50\n",
      " - 0s - loss: 2.2963 - acc: 0.1448 - val_loss: 2.9193 - val_acc: 0.1010\n",
      "Epoch 47/50\n",
      " - 0s - loss: 2.2779 - acc: 0.1481 - val_loss: 2.9541 - val_acc: 0.0909\n",
      "Epoch 48/50\n",
      " - 0s - loss: 2.2472 - acc: 0.1538 - val_loss: 3.0423 - val_acc: 0.1515\n",
      "Epoch 49/50\n",
      " - 0s - loss: 2.2076 - acc: 0.1380 - val_loss: 2.9447 - val_acc: 0.0808\n",
      "Epoch 50/50\n",
      " - 0s - loss: 2.2360 - acc: 0.1336 - val_loss: 2.9561 - val_acc: 0.1212\n"
     ]
    }
   ],
   "source": [
    "print(\"fitting the model on topology\")\n",
    "history = modelTopo.fit(x_train, y_train_topology, batch_size=batch_size, epochs=50, \n",
    "          validation_data = (x_test, y_test_topology), verbose = 2)"
   ]
  },
  {
   "cell_type": "code",
   "execution_count": 8,
   "metadata": {},
   "outputs": [
    {
     "name": "stdout",
     "output_type": "stream",
     "text": [
      "fitting the model on distances\n",
      "Train on 891 samples, validate on 99 samples\n",
      "Epoch 1/50\n",
      " - 0s - loss: 4.2566 - acc: 0.0247 - val_loss: 2.8321 - val_acc: 0.0707\n",
      "Epoch 2/50\n",
      " - 0s - loss: 2.9315 - acc: 0.0651 - val_loss: 2.7968 - val_acc: 0.0303\n",
      "Epoch 3/50\n",
      " - 0s - loss: 2.9162 - acc: 0.0730 - val_loss: 2.8320 - val_acc: 0.1010\n",
      "Epoch 4/50\n",
      " - 0s - loss: 2.9238 - acc: 0.0730 - val_loss: 2.7668 - val_acc: 0.0303\n",
      "Epoch 5/50\n",
      " - 0s - loss: 2.8859 - acc: 0.0426 - val_loss: 2.7378 - val_acc: 0.0202\n",
      "Epoch 6/50\n",
      " - 0s - loss: 2.9044 - acc: 0.0696 - val_loss: 2.7704 - val_acc: 0.0606\n",
      "Epoch 7/50\n",
      " - 0s - loss: 2.8712 - acc: 0.0629 - val_loss: 2.8165 - val_acc: 0.0303\n",
      "Epoch 8/50\n",
      " - 0s - loss: 2.8742 - acc: 0.0640 - val_loss: 2.7613 - val_acc: 0.0303\n",
      "Epoch 9/50\n",
      " - 0s - loss: 2.8316 - acc: 0.0842 - val_loss: 2.8741 - val_acc: 0.1313\n",
      "Epoch 10/50\n",
      " - 0s - loss: 2.8642 - acc: 0.0920 - val_loss: 2.8526 - val_acc: 0.0808\n",
      "Epoch 11/50\n",
      " - 0s - loss: 2.8122 - acc: 0.0707 - val_loss: 2.7431 - val_acc: 0.0303\n",
      "Epoch 12/50\n",
      " - 0s - loss: 2.8459 - acc: 0.1033 - val_loss: 2.7359 - val_acc: 0.1212\n",
      "Epoch 13/50\n",
      " - 0s - loss: 2.8035 - acc: 0.0875 - val_loss: 2.7887 - val_acc: 0.0202\n",
      "Epoch 14/50\n",
      " - 0s - loss: 2.7829 - acc: 0.0954 - val_loss: 2.8407 - val_acc: 0.0808\n",
      "Epoch 15/50\n",
      " - 0s - loss: 2.7695 - acc: 0.0887 - val_loss: 2.8502 - val_acc: 0.1111\n",
      "Epoch 16/50\n",
      " - 0s - loss: 2.7930 - acc: 0.1089 - val_loss: 2.7878 - val_acc: 0.1212\n",
      "Epoch 17/50\n",
      " - 0s - loss: 2.7249 - acc: 0.1178 - val_loss: 2.7772 - val_acc: 0.1111\n",
      "Epoch 18/50\n",
      " - 0s - loss: 2.7790 - acc: 0.1358 - val_loss: 2.8375 - val_acc: 0.0909\n",
      "Epoch 19/50\n",
      " - 0s - loss: 2.6927 - acc: 0.0943 - val_loss: 2.7281 - val_acc: 0.1313\n",
      "Epoch 20/50\n",
      " - 0s - loss: 2.7357 - acc: 0.1291 - val_loss: 2.7544 - val_acc: 0.0606\n",
      "Epoch 21/50\n",
      " - 0s - loss: 2.6548 - acc: 0.1279 - val_loss: 2.8332 - val_acc: 0.0404\n",
      "Epoch 22/50\n",
      " - 0s - loss: 2.7143 - acc: 0.1235 - val_loss: 2.8354 - val_acc: 0.0606\n",
      "Epoch 23/50\n",
      " - 0s - loss: 2.6646 - acc: 0.1279 - val_loss: 2.8158 - val_acc: 0.0909\n",
      "Epoch 24/50\n",
      " - 0s - loss: 2.6294 - acc: 0.1212 - val_loss: 2.8461 - val_acc: 0.0202\n",
      "Epoch 25/50\n",
      " - 0s - loss: 2.6605 - acc: 0.1425 - val_loss: 2.7879 - val_acc: 0.0707\n",
      "Epoch 26/50\n",
      " - 0s - loss: 2.5795 - acc: 0.1257 - val_loss: 2.8143 - val_acc: 0.1111\n",
      "Epoch 27/50\n",
      " - 0s - loss: 2.6280 - acc: 0.1650 - val_loss: 2.8531 - val_acc: 0.1111\n",
      "Epoch 28/50\n",
      " - 0s - loss: 2.5492 - acc: 0.1336 - val_loss: 2.8720 - val_acc: 0.0707\n",
      "Epoch 29/50\n",
      " - 0s - loss: 2.5758 - acc: 0.1279 - val_loss: 2.8564 - val_acc: 0.1313\n",
      "Epoch 30/50\n",
      " - 0s - loss: 2.5473 - acc: 0.1560 - val_loss: 2.8573 - val_acc: 0.1010\n",
      "Epoch 31/50\n",
      " - 0s - loss: 2.5303 - acc: 0.1369 - val_loss: 2.8032 - val_acc: 0.1515\n",
      "Epoch 32/50\n",
      " - 0s - loss: 2.5369 - acc: 0.1560 - val_loss: 2.8456 - val_acc: 0.0505\n",
      "Epoch 33/50\n",
      " - 0s - loss: 2.4639 - acc: 0.1549 - val_loss: 2.9652 - val_acc: 0.0404\n",
      "Epoch 34/50\n",
      " - 0s - loss: 2.5058 - acc: 0.1369 - val_loss: 2.9584 - val_acc: 0.0404\n",
      "Epoch 35/50\n",
      " - 0s - loss: 2.4668 - acc: 0.1605 - val_loss: 2.8301 - val_acc: 0.0909\n",
      "Epoch 36/50\n",
      " - 0s - loss: 2.4294 - acc: 0.1493 - val_loss: 2.8880 - val_acc: 0.0606\n",
      "Epoch 37/50\n",
      " - 0s - loss: 2.4382 - acc: 0.1549 - val_loss: 2.8374 - val_acc: 0.2121\n",
      "Epoch 38/50\n",
      " - 0s - loss: 2.4267 - acc: 0.1874 - val_loss: 2.9313 - val_acc: 0.0606\n",
      "Epoch 39/50\n",
      " - 0s - loss: 2.3785 - acc: 0.1594 - val_loss: 2.8151 - val_acc: 0.0808\n",
      "Epoch 40/50\n",
      " - 0s - loss: 2.3832 - acc: 0.1627 - val_loss: 2.9113 - val_acc: 0.1010\n",
      "Epoch 41/50\n",
      " - 0s - loss: 2.3806 - acc: 0.1672 - val_loss: 2.8780 - val_acc: 0.1111\n",
      "Epoch 42/50\n",
      " - 0s - loss: 2.3386 - acc: 0.1785 - val_loss: 2.9100 - val_acc: 0.1111\n",
      "Epoch 43/50\n",
      " - 0s - loss: 2.3261 - acc: 0.1672 - val_loss: 2.9684 - val_acc: 0.1313\n",
      "Epoch 44/50\n",
      " - 0s - loss: 2.3201 - acc: 0.1975 - val_loss: 3.0141 - val_acc: 0.1313\n",
      "Epoch 45/50\n",
      " - 0s - loss: 2.3122 - acc: 0.1964 - val_loss: 2.8460 - val_acc: 0.1111\n",
      "Epoch 46/50\n",
      " - 0s - loss: 2.2945 - acc: 0.1908 - val_loss: 2.8025 - val_acc: 0.0707\n",
      "Epoch 47/50\n",
      " - 0s - loss: 2.2759 - acc: 0.2155 - val_loss: 2.8144 - val_acc: 0.0808\n",
      "Epoch 48/50\n",
      " - 0s - loss: 2.2434 - acc: 0.2031 - val_loss: 2.8837 - val_acc: 0.0909\n",
      "Epoch 49/50\n",
      " - 0s - loss: 2.2619 - acc: 0.2020 - val_loss: 2.8734 - val_acc: 0.1010\n",
      "Epoch 50/50\n",
      " - 0s - loss: 2.2285 - acc: 0.2009 - val_loss: 2.8875 - val_acc: 0.1212\n"
     ]
    }
   ],
   "source": [
    "print(\"fitting the model on distances\")\n",
    "history = modelDist.fit(x_train, y_train_topology, batch_size=batch_size, epochs=50, \n",
    "          validation_data = (x_test, y_test_topology), verbose = 2)"
   ]
  },
  {
   "cell_type": "code",
   "execution_count": 9,
   "metadata": {},
   "outputs": [
    {
     "ename": "FileNotFoundError",
     "evalue": "[Errno 2] No such file or directory: 'data/keras/modelTopo.json'",
     "output_type": "error",
     "traceback": [
      "\u001b[0;31m---------------------------------------------------------------------------\u001b[0m",
      "\u001b[0;31mFileNotFoundError\u001b[0m                         Traceback (most recent call last)",
      "\u001b[0;32m<ipython-input-9-1360c4bb03b8>\u001b[0m in \u001b[0;36m<module>\u001b[0;34m\u001b[0m\n\u001b[1;32m      1\u001b[0m \u001b[0;31m# Serialize models to JSON\u001b[0m\u001b[0;34m\u001b[0m\u001b[0;34m\u001b[0m\u001b[0m\n\u001b[1;32m      2\u001b[0m \u001b[0mmodelJsonTopo\u001b[0m \u001b[0;34m=\u001b[0m \u001b[0mmodelTopo\u001b[0m\u001b[0;34m.\u001b[0m\u001b[0mto_json\u001b[0m\u001b[0;34m(\u001b[0m\u001b[0;34m)\u001b[0m\u001b[0;34m\u001b[0m\u001b[0m\n\u001b[0;32m----> 3\u001b[0;31m \u001b[0;32mwith\u001b[0m \u001b[0mopen\u001b[0m\u001b[0;34m(\u001b[0m\u001b[0;34m\"data/keras/modelTopo.json\"\u001b[0m\u001b[0;34m,\u001b[0m \u001b[0;34m\"w\"\u001b[0m\u001b[0;34m)\u001b[0m \u001b[0;32mas\u001b[0m \u001b[0mjson_file\u001b[0m\u001b[0;34m:\u001b[0m\u001b[0;34m\u001b[0m\u001b[0m\n\u001b[0m\u001b[1;32m      4\u001b[0m     \u001b[0mjson_file\u001b[0m\u001b[0;34m.\u001b[0m\u001b[0mwrite\u001b[0m\u001b[0;34m(\u001b[0m\u001b[0mmodelJsonTopo\u001b[0m\u001b[0;34m)\u001b[0m\u001b[0;34m\u001b[0m\u001b[0m\n\u001b[1;32m      5\u001b[0m \u001b[0;34m\u001b[0m\u001b[0m\n",
      "\u001b[0;31mFileNotFoundError\u001b[0m: [Errno 2] No such file or directory: 'data/keras/modelTopo.json'"
     ]
    }
   ],
   "source": [
    "# Serialize models to JSON\n",
    "modelJsonTopo = modelTopo.to_json()\n",
    "with open(dataDir+\"keras/modelTopo.json\", \"w\") as json_file:\n",
    "    json_file.write(modelJsonTopo)\n",
    "    \n",
    "modelJsonDist = modelDist.to_json()\n",
    "with open(\"data/keras/modelDist.json\", \"w\") as json_file:\n",
    "    json_file.write(modelJsonDist)"
   ]
  },
  {
   "cell_type": "markdown",
   "metadata": {},
   "source": [
    "## Make Predictions on the Test Data"
   ]
  },
  {
   "cell_type": "code",
   "execution_count": null,
   "metadata": {},
   "outputs": [],
   "source": [
    "distPredictions = []\n",
    "topoPredictions = []\n",
    "for x in x_test:\n",
    "    expandedX = np.expand_dims(x, axis=0)\n",
    "    topoPrediction = modelTopo.predict(expandedX)\n",
    "    topoPredictions.append(topoPrediction)\n",
    "    distPrediction = modelDist.predict(expandedX)\n",
    "    distPredictions.append(distPrediction)\n",
    "\n",
    "topoPredictionsNP = np.concatenate(tuple(topoPredictions))\n",
    "distPredictionsNP = np.concatenate(tuple(distPredictions))"
   ]
  },
  {
   "cell_type": "code",
   "execution_count": null,
   "metadata": {},
   "outputs": [],
   "source": [
    "topoPredictionsNP.shape"
   ]
  },
  {
   "cell_type": "code",
   "execution_count": null,
   "metadata": {},
   "outputs": [],
   "source": [
    "np.save('data/np/x_test0', x_test[0])"
   ]
  }
 ],
 "metadata": {
  "kernelspec": {
   "display_name": "Python 3",
   "language": "python",
   "name": "python3"
  },
  "language_info": {
   "codemirror_mode": {
    "name": "ipython",
    "version": 3
   },
   "file_extension": ".py",
   "mimetype": "text/x-python",
   "name": "python",
   "nbconvert_exporter": "python",
   "pygments_lexer": "ipython3",
   "version": "3.5.5"
  }
 },
 "nbformat": 4,
 "nbformat_minor": 2
}
