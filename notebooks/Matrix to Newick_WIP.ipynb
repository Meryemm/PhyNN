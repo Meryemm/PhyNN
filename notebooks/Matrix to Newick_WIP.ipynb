{
 "cells": [
  {
   "cell_type": "markdown",
   "metadata": {},
   "source": [
    "# Go from matrices back to newick\n",
    "\n",
    "\n",
    "### Outline:\n",
    "[0. First Some Helper Functions](#section0)  \n",
    "[1. Just Topology](#section1)  \n",
    "[2. \"Fuzzy\" Toplogy](#section2)  \n",
    "[3. Adding Branch Lengths](#section3)  \n",
    "[4. Putting it all together](#section4)\n",
    "\n",
    "### TODO:\n",
    "- Add Branch Lenghts\n",
    "- Combine into one function\n",
    "- Test it out a bit to confirm it behaves basically as expected\n",
    "- Add the slow messy version to the python code\n",
    "- Add a few basic tests \n",
    "- Make theses functions faster (get rid of the nested loops, use numpy, etc)\n",
    "- Clean the functions up and document better"
   ]
  },
  {
   "cell_type": "code",
   "execution_count": 1,
   "metadata": {},
   "outputs": [],
   "source": [
    "from ete3 import Tree\n",
    "import ast\n",
    "import numpy as np\n",
    "import pandas as pd"
   ]
  },
  {
   "cell_type": "markdown",
   "metadata": {},
   "source": [
    "<a id=\"section0\"></a>\n",
    "## 0. Helper Functions"
   ]
  },
  {
   "cell_type": "code",
   "execution_count": 2,
   "metadata": {},
   "outputs": [],
   "source": [
    "# Original Example I was using\n",
    "exampleTopologyMatrix = [[0, 2, 3, 1, 3], [2, 0, 2, 2, 2], [3, 2, 0, 3, 1], [1, 2, 3, 0, 3], [3, 2, 1, 3, 0]]\n",
    "\n",
    "# The '4Leaf.tree example' (used in step 3: adding branch lengths)\n",
    "#exampleTopologyMatrix = [[0, 1, 2, 2], [1, 0, 2, 2], [2, 2, 0, 1], [2, 2, 1, 0]]"
   ]
  },
  {
   "cell_type": "code",
   "execution_count": 3,
   "metadata": {},
   "outputs": [],
   "source": [
    "def matrixToDict(matrix, leafNames=False, rounding=False):\n",
    "    '''Convert a symetrical matrix to a dictionary of dictonaries.'''\n",
    "    if leafNames:\n",
    "        leaves = leafNames\n",
    "    else:\n",
    "        leaves = [str(i) for i in range(len(matrix))]\n",
    "    if rounding:\n",
    "        matrix.round()\n",
    "    dic = dict((key, value) for (key, value) in zip(leaves, matrix))    \n",
    "    for key in dic:\n",
    "        dic[key] = dict((key, value) for (key, value) in zip(leaves, dic[key]))\n",
    "    return dic\n",
    "    \n",
    "# Test\n",
    "#matrixToDict(exampleTopologyMatrix)"
   ]
  },
  {
   "cell_type": "markdown",
   "metadata": {},
   "source": [
    "## Going from \"flattened\" symetrical matrix (list) back to the symetrical matrix (list of lists)"
   ]
  },
  {
   "cell_type": "code",
   "execution_count": 4,
   "metadata": {},
   "outputs": [],
   "source": [
    "def flattenSymetricalMatrix(matrix):\n",
    "    ''' Take a 2d symetrical matrix (list of lists).\n",
    "        Return a flattened version (single list)\n",
    "        for example:\n",
    "           input [[0,2,3],\n",
    "                  [2,0,4],\n",
    "                  [3,4,0]]\n",
    "           output [2,3,4]\n",
    "                  '''\n",
    "    flattenedMatrix = []\n",
    "    for i in range(len(matrix)):\n",
    "        if i == 0:\n",
    "            pass\n",
    "        else:\n",
    "            for elm in matrix[i][0:i]:\n",
    "                flattenedMatrix.append(elm)\n",
    "        \n",
    "    return flattenedMatrix\n",
    "        \n",
    "# Test\n",
    "#flattenedList = flattenSymetricalMatrix(testMatrix)\n",
    "#print(flattenedList)  "
   ]
  },
  {
   "cell_type": "code",
   "execution_count": 5,
   "metadata": {},
   "outputs": [],
   "source": [
    "def triangleNumber(n):\n",
    "    for i in range(n):\n",
    "        if i*(i+1)/2 == n:\n",
    "            return True\n",
    "    return False"
   ]
  },
  {
   "cell_type": "code",
   "execution_count": 6,
   "metadata": {},
   "outputs": [],
   "source": [
    "def unFlattenSymetricalMatrix(flattenedMatrix):\n",
    "    ''' Take a flattened version (single list)\n",
    "        return a 2d symetrical matrix (list of lists).\n",
    "        \n",
    "        for example:\n",
    "           input  [1,2,3]\n",
    "           output [[0,1,2],\n",
    "                   [1,0,3],\n",
    "                   [2,3,0]]\n",
    "\n",
    "                  '''  \n",
    "    if not triangleNumber(len(flattenedMatrix)):\n",
    "        print('This Matrix cant be unflattened... its the wrong length')\n",
    "        return\n",
    "    \n",
    "    unFlattenedMatrix = [[0]]\n",
    "    node1 = 1\n",
    "    node2 = 0\n",
    "    for i in range(len(flattenedMatrix)):\n",
    "        element = flattenedMatrix[i]\n",
    "        \n",
    "        # Add the element at node1, node2\n",
    "        if len(unFlattenedMatrix) == node1:\n",
    "            unFlattenedMatrix.append([element])\n",
    "        else:\n",
    "            unFlattenedMatrix[node1].append(element)\n",
    "        # Add the element at ndoe2, node1 \n",
    "        unFlattenedMatrix[node2].append(element)\n",
    "        \n",
    "        # Update the nodeIndices\n",
    "        if (node1 - 1) == node2:\n",
    "            unFlattenedMatrix[node1].append(0)\n",
    "            node1+=1\n",
    "            node2=0\n",
    "        else:\n",
    "            node2+=1\n",
    "\n",
    "    return unFlattenedMatrix\n",
    "            \n",
    "# Test\n",
    "# unFlattenSymetricalMatrix([1,2,3,4,5,6])\n",
    "#This should return: [[0,1,2,4],[1,0,3,5],[2,3,0,6],[4,5,6,0]]"
   ]
  },
  {
   "cell_type": "markdown",
   "metadata": {},
   "source": [
    "<a id=\"section1\"></a>\n",
    "## 1. Just topology"
   ]
  },
  {
   "cell_type": "markdown",
   "metadata": {},
   "source": [
    "### From:\n",
    "[[0, 2, 3, 1, 3],\n",
    "[2, 0, 2, 2, 2],\n",
    "[3, 2, 0, 3, 1],\n",
    "[1, 2, 3, 0, 3],\n",
    "[3, 2, 1, 3, 0]]\n",
    "\n",
    "### To:\n",
    "(3,5,(2,(1,4))) or some form thereof;"
   ]
  },
  {
   "cell_type": "code",
   "execution_count": 7,
   "metadata": {},
   "outputs": [],
   "source": [
    "def createInternalNode(topologyDict, node1, node2):\n",
    "    internalNodeName = \"[\" + node2 + \",\" + node1 + \"]\"\n",
    "    topologyDict[internalNodeName] = {key: value-1 for (key, value) in topologyDict[node1].items()}\n",
    "    del(topologyDict[node1])\n",
    "    del(topologyDict[node2])\n",
    "    for outerNode in topologyDict:\n",
    "        del(topologyDict[outerNode][node1])\n",
    "        del(topologyDict[outerNode][node2])\n",
    "        if outerNode == internalNodeName:\n",
    "            topologyDict[outerNode][internalNodeName] = 0\n",
    "        else:\n",
    "            topologyDict[outerNode][internalNodeName] = topologyDict[internalNodeName][outerNode]\n",
    "\n",
    "    return topologyDict\n",
    "\n",
    "# Test\n",
    "#createInternalNode(exampleTopologyDict, '0', '3')"
   ]
  },
  {
   "cell_type": "code",
   "execution_count": 8,
   "metadata": {},
   "outputs": [
    {
     "name": "stdout",
     "output_type": "stream",
     "text": [
      "topologyDict:  {'[0,3]': {'[0,3]': 0, '[4,2]': 0, '4': 2, '1': 1, '2': 2}, '[4,2]': {'[4,2]': 0, '1': 1}, '1': {'[0,3]': 1, '[4,2]': 1, '1': 0}}\n"
     ]
    },
    {
     "data": {
      "text/plain": [
       "[[0, 3], [4, 2], 1]"
      ]
     },
     "execution_count": 8,
     "metadata": {},
     "output_type": "execute_result"
    }
   ],
   "source": [
    "def topologyMatrixToList(topologyMatrix):\n",
    "    topologyDict = matrixToDict(topologyMatrix)\n",
    "\n",
    "    # Basically three loops:\n",
    "    #   1. loop until the list is complete / the whole tree is traversed\n",
    "    #   2. loop through rows\n",
    "    #   3. loop through the columns of each row\n",
    "    \n",
    "    # Loop 1\n",
    "    unresolvedInternalNodes = True\n",
    "    while unresolvedInternalNodes:\n",
    "        \n",
    "        \n",
    "        newRowsToInsert = []\n",
    "        \n",
    "        # Loop 2\n",
    "        # Go through each row; not using the actual dict because it will be modified mid loop.\n",
    "        rowKeys = list(topologyDict.keys())\n",
    "        for rowKey in rowKeys:\n",
    "            if rowKey in list(topologyDict.keys()): # To handle looping over a dict that's being modified.\n",
    "                \n",
    "                # Loop 3\n",
    "                colKeys = list(topologyDict[rowKey].keys())\n",
    "                for colKey in colKeys:\n",
    "                    if rowKey in list(topologyDict.keys()) and colKey in list(topologyDict[rowKey].keys()): # To handle looping over a dict that's being modified.\n",
    "                        \n",
    "                        # Check if it is two nodes that share one internal node.\n",
    "                        if topologyDict[rowKey][colKey] == 1:\n",
    "\n",
    "                            # Add the internal node to the list\n",
    "                            internalNodeName = \"[\" + rowKey + \",\" + colKey + \"]\"\n",
    "                            internalNodeDict = {key: value-1 for (key, value) in topologyDict[rowKey].items()}\n",
    "                            del(internalNodeDict[rowKey])\n",
    "                            del(internalNodeDict[colKey])\n",
    "                            newRowsToInsert.append({internalNodeName: internalNodeDict})\n",
    "                            \n",
    "                            # Remove the two rows representing the two nodes that were merged into the internal node.\n",
    "                            del(topologyDict[rowKey])\n",
    "                            del(topologyDict[colKey])\n",
    "                            # Remove the two columns representing the two nodes that were merged (do this for each remaining row)\n",
    "                            for remainingRowKey in topologyDict:\n",
    "                                del(topologyDict[remainingRowKey][rowKey])\n",
    "                                del(topologyDict[remainingRowKey][colKey])\n",
    "\n",
    "        # After each time looping throught all rows.\n",
    "        # Add the new internal node(s) to the topologyMatrix (both as a new row and a new column to each row)\n",
    "        for newRow in newRowsToInsert:\n",
    "            [(newRowKey, newRowVal)] = newRow.items()\n",
    "            topologyDict[newRowKey] = newRowVal\n",
    "\n",
    "            for row in topologyDict:\n",
    "                if row in list(newRowVal.keys()):\n",
    "                    topologyDict[row][newRowKey] = newRowVal[row]\n",
    "                else:\n",
    "                    topologyDict[row][newRowKey] = 0\n",
    "\n",
    "        # if there are three or less nodes left than just combine these nodes and you have the topology list.\n",
    "        numberOfUnresolvedNodes = len(list(topologyDict.keys()))\n",
    "        if numberOfUnresolvedNodes <= 3:\n",
    "            print('topologyDict: ', topologyDict)\n",
    "            topologyListString = '['\n",
    "            for nodeName in list(topologyDict.keys()):\n",
    "                topologyListString += nodeName + ','\n",
    "            topologyListString = topologyListString[:-1] + ']'\n",
    "            unresolvedInternalNodes = False\n",
    "            \n",
    "    # Convert the topologyListString '[[1,2],[3,4]]' into an actual list [[1,2],[3,4]]\n",
    "    topologyList = ast.literal_eval(topologyListString)\n",
    "    \n",
    "    return topologyList\n",
    "\n",
    "    \n",
    "# Test\n",
    "topologyMatrixToList(exampleTopologyMatrix)"
   ]
  },
  {
   "cell_type": "markdown",
   "metadata": {},
   "source": [
    "<a id='section2'></a>\n",
    "## 2. \"Fuzzy\" Toplogy\n",
    "Non-integers and not perfectly describing one topology (i.e. conflicting info)"
   ]
  },
  {
   "cell_type": "code",
   "execution_count": 9,
   "metadata": {},
   "outputs": [],
   "source": [
    "exampleFuzzy = [2.5746593, 2.9625423, 1.2669723, 1.8811567, 2.8555021, 2.5892396]\n",
    "exampleTrue = [3, 3, 1, 1, 3, 3]\n",
    "exampleFuzzy5 = [2.5746593, 2.9625423, 1.2669723, 1.8811567, 2.8555021, 2.5892396, 3.2, 2.4, 1.9, 4.1]"
   ]
  },
  {
   "cell_type": "code",
   "execution_count": 10,
   "metadata": {},
   "outputs": [],
   "source": [
    "def replaceZerosWithInf(dictionary):\n",
    "    modifiedDict = {}\n",
    "    for rowKey in dictionary:\n",
    "        modifiedRow = {}\n",
    "        for colKey in dictionary[rowKey]:\n",
    "            if dictionary[rowKey][colKey] == 0:\n",
    "                modifiedRow[colKey] = float('inf')\n",
    "            else:\n",
    "                modifiedRow[colKey] = dictionary[rowKey][colKey]\n",
    "        modifiedDict[rowKey] = modifiedRow\n",
    "    return modifiedDict"
   ]
  },
  {
   "cell_type": "code",
   "execution_count": 11,
   "metadata": {},
   "outputs": [
    {
     "data": {
      "text/plain": [
       "[0, 3, [[1, 2], 4]]"
      ]
     },
     "execution_count": 11,
     "metadata": {},
     "output_type": "execute_result"
    }
   ],
   "source": [
    "def fuzzyTopologyMatrixToList(fuzzyTopologyMatrix):\n",
    "    topologyDict = matrixToDict(fuzzyTopologyMatrix)\n",
    "        \n",
    "    # Replace the zero values along the diagonals with infinity\n",
    "    # NOTE: THIS WILL REPLACE !!ALL!! ZEROS WITH INF\n",
    "    topologyDict = replaceZerosWithInf(topologyDict)\n",
    "\n",
    "    # Basically three loops:\n",
    "    #   1. loop until the list is complete / the whole tree is traversed\n",
    "    #   2. loop through rows\n",
    "    #   3. loop through the columns of each row\n",
    "    \n",
    "    # Loop 1\n",
    "    unresolvedInternalNodes = True\n",
    "    while unresolvedInternalNodes:\n",
    "        \n",
    "        newRowsToInsert = []\n",
    "        \n",
    "        # Find the lowest number*\n",
    "        minValue = float(\"inf\")\n",
    "        for rowKey in topologyDict:\n",
    "            row = topologyDict[rowKey]\n",
    "            keyMin = min(row.keys(), key=(lambda k: row[k]))\n",
    "            rowMinValue = row[keyMin]\n",
    "            if rowMinValue < minValue:\n",
    "                minValue = rowMinValue\n",
    "                minValueKeys = [rowKey, keyMin]\n",
    "\n",
    "        # Add the internal node to the list\n",
    "        rowKey = minValueKeys[0]\n",
    "        colKey = minValueKeys[1]\n",
    "        internalNodeName = \"[\" + rowKey + \",\" + colKey + \"]\"\n",
    "        # Use the average of the dist between the two that were joined and the node of interest\n",
    "        internalNodeDict1 = {key: value-1 for (key, value) in topologyDict[rowKey].items()}\n",
    "        internalNodeDict2 = {key: value-1 for (key, value) in topologyDict[colKey].items()}\n",
    "        df = pd.DataFrame([internalNodeDict1, internalNodeDict2])\n",
    "        internalNodeDict = dict(df.mean())\n",
    "        # Remove the two joined nodes from their list\n",
    "        del(internalNodeDict[rowKey])\n",
    "        del(internalNodeDict[colKey])\n",
    "        newRowsToInsert.append({internalNodeName: internalNodeDict})\n",
    "\n",
    "        # Remove the two rows representing the two nodes that were merged into the internal node.\n",
    "        del(topologyDict[rowKey])\n",
    "        del(topologyDict[colKey])\n",
    "        # Remove the two columns representing the two nodes that were merged (do this for each remaining row)\n",
    "        for remainingRowKey in topologyDict:\n",
    "            del(topologyDict[remainingRowKey][rowKey])\n",
    "            del(topologyDict[remainingRowKey][colKey])\n",
    "\n",
    "        # After each time looping throught all rows.\n",
    "        # Add the new internal node(s) to the topologyMatrix (both as a new row and a new column to each row)\n",
    "        # TODO: Make it so that if there's a \"tie\" in min value they are both added\n",
    "        for newRow in newRowsToInsert:\n",
    "            [(newRowKey, newRowVal)] = newRow.items()\n",
    "            topologyDict[newRowKey] = newRowVal\n",
    "\n",
    "            for row in topologyDict:\n",
    "                if row in list(newRowVal.keys()):\n",
    "                    topologyDict[row][newRowKey] = newRowVal[row]\n",
    "                else:\n",
    "                    topologyDict[row][newRowKey] = float('inf')\n",
    "\n",
    "        # if there are three or less nodes left than just combine these nodes and you have the topology list.\n",
    "        numberOfUnresolvedNodes = len(list(topologyDict.keys()))\n",
    "        if numberOfUnresolvedNodes <= 3:\n",
    "            topologyListString = '['\n",
    "            for nodeName in list(topologyDict.keys()):\n",
    "                topologyListString += nodeName + ','\n",
    "            topologyListString = topologyListString[:-1] + ']'\n",
    "            unresolvedInternalNodes = False\n",
    "            \n",
    "    # Convert the topologyListString '[[1,2],[3,4]]' into an actual list [[1,2],[3,4]]\n",
    "    topologyList = ast.literal_eval(topologyListString)\n",
    "    \n",
    "    return topologyList\n",
    "\n",
    "    \n",
    "# Test\n",
    "fuzzyTopologyMatrixToList(unFlattenSymetricalMatrix(exampleFuzzy5))"
   ]
  },
  {
   "cell_type": "markdown",
   "metadata": {},
   "source": [
    "<a id=\"section3\"></a>\n",
    "## 3. Adding Branch Lengths\n",
    "\n",
    "Take a predicted newick string and a branch lenght matrix and go to a newick string with branch lenghts\n",
    "\n",
    "### From:\n",
    "[[2, 3], [1, 0]]  \n",
    "and  \n",
    "[[0, 0.361399, 0.39885499999999996, 0.497874],  \n",
    "[0.361399, 0, 0.464316, 0.563335],  \n",
    "[0.39885499999999996, 0.464316, 0, 0.430593],  \n",
    "[0.497874, 0.5633349999999999, 0.430593, 0]]\n",
    "\n",
    "### To:\n",
    "((A:0.147969,B:0.213430):0.085099,C:0.165787,D:0.264806); or some form thereof;"
   ]
  },
  {
   "cell_type": "code",
   "execution_count": 12,
   "metadata": {},
   "outputs": [],
   "source": [
    "testDistanceMatrix = [[0, 0.361399, 0.39885499999999996, 0.497874],\n",
    "                      [0.361399, 0, 0.464316, 0.563335],\n",
    "                      [0.39885499999999996, 0.464316, 0, 0.430593],\n",
    "                      [0.497874, 0.5633349999999999, 0.430593, 0]]\n",
    "\n",
    "testTopologyList = [[2, 3], [1, 0]]"
   ]
  },
  {
   "cell_type": "code",
   "execution_count": 13,
   "metadata": {},
   "outputs": [],
   "source": [
    "def addBranchLengths(distanceMatrix, topologyList):\n",
    "    return 'test'"
   ]
  },
  {
   "cell_type": "code",
   "execution_count": 14,
   "metadata": {},
   "outputs": [
    {
     "data": {
      "text/plain": [
       "'test'"
      ]
     },
     "execution_count": 14,
     "metadata": {},
     "output_type": "execute_result"
    }
   ],
   "source": [
    "addBranchLengths(testDistanceMatrix,testTopologyList)"
   ]
  },
  {
   "cell_type": "markdown",
   "metadata": {},
   "source": [
    "1. Write out equations\n",
    "2. Put it in a function"
   ]
  }
 ],
 "metadata": {
  "kernelspec": {
   "display_name": "Python 3",
   "language": "python",
   "name": "python3"
  },
  "language_info": {
   "codemirror_mode": {
    "name": "ipython",
    "version": 3
   },
   "file_extension": ".py",
   "mimetype": "text/x-python",
   "name": "python",
   "nbconvert_exporter": "python",
   "pygments_lexer": "ipython3",
   "version": "3.5.5"
  }
 },
 "nbformat": 4,
 "nbformat_minor": 2
}
